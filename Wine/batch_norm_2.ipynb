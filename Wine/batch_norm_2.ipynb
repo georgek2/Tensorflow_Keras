{
 "cells": [
  {
   "cell_type": "code",
   "execution_count": 1,
   "id": "cfa3d2f3",
   "metadata": {},
   "outputs": [],
   "source": [
    "import numpy as np\n",
    "import pandas as pd\n",
    "\n",
    "from tensorflow import keras\n",
    "from tensorflow.keras import layers, callbacks\n",
    "\n",
    "import matplotlib.pyplot as plt\n",
    "\n",
    "from sklearn import metrics"
   ]
  },
  {
   "cell_type": "code",
   "execution_count": 2,
   "id": "1194ee5b",
   "metadata": {},
   "outputs": [
    {
     "data": {
      "text/html": [
       "<div>\n",
       "<style scoped>\n",
       "    .dataframe tbody tr th:only-of-type {\n",
       "        vertical-align: middle;\n",
       "    }\n",
       "\n",
       "    .dataframe tbody tr th {\n",
       "        vertical-align: top;\n",
       "    }\n",
       "\n",
       "    .dataframe thead th {\n",
       "        text-align: right;\n",
       "    }\n",
       "</style>\n",
       "<table border=\"1\" class=\"dataframe\">\n",
       "  <thead>\n",
       "    <tr style=\"text-align: right;\">\n",
       "      <th></th>\n",
       "      <th>fixed acidity</th>\n",
       "      <th>volatile acidity</th>\n",
       "      <th>citric acid</th>\n",
       "      <th>residual sugar</th>\n",
       "      <th>chlorides</th>\n",
       "      <th>free sulfur dioxide</th>\n",
       "      <th>total sulfur dioxide</th>\n",
       "      <th>density</th>\n",
       "      <th>pH</th>\n",
       "      <th>sulphates</th>\n",
       "      <th>alcohol</th>\n",
       "      <th>quality</th>\n",
       "    </tr>\n",
       "  </thead>\n",
       "  <tbody>\n",
       "    <tr>\n",
       "      <th>0</th>\n",
       "      <td>7.4</td>\n",
       "      <td>0.70</td>\n",
       "      <td>0.00</td>\n",
       "      <td>1.9</td>\n",
       "      <td>0.076</td>\n",
       "      <td>11.0</td>\n",
       "      <td>34.0</td>\n",
       "      <td>0.9978</td>\n",
       "      <td>3.51</td>\n",
       "      <td>0.56</td>\n",
       "      <td>9.4</td>\n",
       "      <td>5</td>\n",
       "    </tr>\n",
       "    <tr>\n",
       "      <th>1</th>\n",
       "      <td>7.8</td>\n",
       "      <td>0.88</td>\n",
       "      <td>0.00</td>\n",
       "      <td>2.6</td>\n",
       "      <td>0.098</td>\n",
       "      <td>25.0</td>\n",
       "      <td>67.0</td>\n",
       "      <td>0.9968</td>\n",
       "      <td>3.20</td>\n",
       "      <td>0.68</td>\n",
       "      <td>9.8</td>\n",
       "      <td>5</td>\n",
       "    </tr>\n",
       "    <tr>\n",
       "      <th>2</th>\n",
       "      <td>7.8</td>\n",
       "      <td>0.76</td>\n",
       "      <td>0.04</td>\n",
       "      <td>2.3</td>\n",
       "      <td>0.092</td>\n",
       "      <td>15.0</td>\n",
       "      <td>54.0</td>\n",
       "      <td>0.9970</td>\n",
       "      <td>3.26</td>\n",
       "      <td>0.65</td>\n",
       "      <td>9.8</td>\n",
       "      <td>5</td>\n",
       "    </tr>\n",
       "  </tbody>\n",
       "</table>\n",
       "</div>"
      ],
      "text/plain": [
       "   fixed acidity  volatile acidity  citric acid  residual sugar  chlorides  \\\n",
       "0            7.4              0.70         0.00             1.9      0.076   \n",
       "1            7.8              0.88         0.00             2.6      0.098   \n",
       "2            7.8              0.76         0.04             2.3      0.092   \n",
       "\n",
       "   free sulfur dioxide  total sulfur dioxide  density    pH  sulphates  \\\n",
       "0                 11.0                  34.0   0.9978  3.51       0.56   \n",
       "1                 25.0                  67.0   0.9968  3.20       0.68   \n",
       "2                 15.0                  54.0   0.9970  3.26       0.65   \n",
       "\n",
       "   alcohol  quality  \n",
       "0      9.4        5  \n",
       "1      9.8        5  \n",
       "2      9.8        5  "
      ]
     },
     "execution_count": 2,
     "metadata": {},
     "output_type": "execute_result"
    }
   ],
   "source": [
    "data = pd.read_csv('winequality-red.csv')\n",
    "data.head(3)"
   ]
  },
  {
   "cell_type": "code",
   "execution_count": 3,
   "id": "7854e42a",
   "metadata": {},
   "outputs": [
    {
     "data": {
      "text/html": [
       "<div>\n",
       "<style scoped>\n",
       "    .dataframe tbody tr th:only-of-type {\n",
       "        vertical-align: middle;\n",
       "    }\n",
       "\n",
       "    .dataframe tbody tr th {\n",
       "        vertical-align: top;\n",
       "    }\n",
       "\n",
       "    .dataframe thead th {\n",
       "        text-align: right;\n",
       "    }\n",
       "</style>\n",
       "<table border=\"1\" class=\"dataframe\">\n",
       "  <thead>\n",
       "    <tr style=\"text-align: right;\">\n",
       "      <th></th>\n",
       "      <th>fixed acidity</th>\n",
       "      <th>volatile acidity</th>\n",
       "      <th>citric acid</th>\n",
       "      <th>residual sugar</th>\n",
       "      <th>chlorides</th>\n",
       "      <th>free sulfur dioxide</th>\n",
       "      <th>total sulfur dioxide</th>\n",
       "      <th>density</th>\n",
       "      <th>pH</th>\n",
       "      <th>sulphates</th>\n",
       "      <th>alcohol</th>\n",
       "      <th>quality</th>\n",
       "    </tr>\n",
       "  </thead>\n",
       "  <tbody>\n",
       "    <tr>\n",
       "      <th>1429</th>\n",
       "      <td>0.292035</td>\n",
       "      <td>0.041096</td>\n",
       "      <td>0.40</td>\n",
       "      <td>0.089041</td>\n",
       "      <td>0.061770</td>\n",
       "      <td>0.521127</td>\n",
       "      <td>0.215548</td>\n",
       "      <td>0.435389</td>\n",
       "      <td>0.464567</td>\n",
       "      <td>0.359281</td>\n",
       "      <td>0.446154</td>\n",
       "      <td>0.4</td>\n",
       "    </tr>\n",
       "    <tr>\n",
       "      <th>260</th>\n",
       "      <td>0.292035</td>\n",
       "      <td>0.143836</td>\n",
       "      <td>0.23</td>\n",
       "      <td>0.054795</td>\n",
       "      <td>0.108514</td>\n",
       "      <td>0.239437</td>\n",
       "      <td>0.137809</td>\n",
       "      <td>0.453744</td>\n",
       "      <td>0.433071</td>\n",
       "      <td>0.191617</td>\n",
       "      <td>0.138462</td>\n",
       "      <td>0.4</td>\n",
       "    </tr>\n",
       "    <tr>\n",
       "      <th>916</th>\n",
       "      <td>0.061947</td>\n",
       "      <td>0.407534</td>\n",
       "      <td>0.19</td>\n",
       "      <td>0.041096</td>\n",
       "      <td>0.248748</td>\n",
       "      <td>0.084507</td>\n",
       "      <td>0.197880</td>\n",
       "      <td>0.284875</td>\n",
       "      <td>0.692913</td>\n",
       "      <td>0.167665</td>\n",
       "      <td>0.400000</td>\n",
       "      <td>0.4</td>\n",
       "    </tr>\n",
       "  </tbody>\n",
       "</table>\n",
       "</div>"
      ],
      "text/plain": [
       "      fixed acidity  volatile acidity  citric acid  residual sugar  chlorides  \\\n",
       "1429       0.292035          0.041096         0.40        0.089041   0.061770   \n",
       "260        0.292035          0.143836         0.23        0.054795   0.108514   \n",
       "916        0.061947          0.407534         0.19        0.041096   0.248748   \n",
       "\n",
       "      free sulfur dioxide  total sulfur dioxide   density        pH  \\\n",
       "1429             0.521127              0.215548  0.435389  0.464567   \n",
       "260              0.239437              0.137809  0.453744  0.433071   \n",
       "916              0.084507              0.197880  0.284875  0.692913   \n",
       "\n",
       "      sulphates   alcohol  quality  \n",
       "1429   0.359281  0.446154      0.4  \n",
       "260    0.191617  0.138462      0.4  \n",
       "916    0.167665  0.400000      0.4  "
      ]
     },
     "execution_count": 3,
     "metadata": {},
     "output_type": "execute_result"
    }
   ],
   "source": [
    "# Split the training and validation sets\n",
    "df_train = data.sample(frac=0.7, random_state=11)\n",
    "df_valid = data.drop(df_train.index)\n",
    "\n",
    "# Scaling [0 - 1]\n",
    "max_ = df_train.max(axis=0)\n",
    "min_ = df_train.min(axis=0)\n",
    "\n",
    "scaled_train = (df_train - min_) / (max_ - min_)\n",
    "scaled_valid = (df_valid - min_) / (max_ - min_)\n",
    "\n",
    "scaled_train.head(3)"
   ]
  },
  {
   "cell_type": "code",
   "execution_count": 4,
   "id": "cfd4febc",
   "metadata": {},
   "outputs": [],
   "source": [
    "# Scaled features and target\n",
    "X_train = scaled_train.drop('quality', axis=1)\n",
    "X_valid = scaled_valid.drop('quality', axis=1)\n",
    "\n",
    "y_train = scaled_train.quality\n",
    "y_valid = scaled_valid.quality"
   ]
  },
  {
   "cell_type": "markdown",
   "id": "8da0853b",
   "metadata": {},
   "source": [
    "## The Neural Network\n",
    "+ Dropout and BatchNorm"
   ]
  },
  {
   "cell_type": "code",
   "execution_count": 5,
   "id": "162c650b",
   "metadata": {},
   "outputs": [],
   "source": [
    "model = keras.Sequential([\n",
    "    layers.Dense(1024, activation = 'relu', input_shape = [11]),\n",
    "    layers.Dropout(0.3),\n",
    "    layers.BatchNormalization(),\n",
    "    layers.Dense(1024, activation = 'relu'),\n",
    "    layers.Dense(0.3),\n",
    "    layers.BatchNormalization(),\n",
    "    layers.Dense(1024, activation = 'relu'),\n",
    "    layers.Dropout(0.3),\n",
    "    layers.BatchNormalization(),\n",
    "    layers.Dense(1)\n",
    "])"
   ]
  },
  {
   "cell_type": "code",
   "execution_count": 6,
   "id": "9d7010b2",
   "metadata": {},
   "outputs": [],
   "source": [
    "model.compile(optimizer = 'adam', loss = 'mae')"
   ]
  },
  {
   "cell_type": "code",
   "execution_count": 7,
   "id": "19e6e527",
   "metadata": {},
   "outputs": [],
   "source": [
    "early_stopping = callbacks.EarlyStopping(\n",
    "        min_delta = 0.001,\n",
    "        patience = 20,\n",
    "        restore_best_weights = True\n",
    ")"
   ]
  },
  {
   "cell_type": "code",
   "execution_count": 8,
   "id": "f13ab717",
   "metadata": {},
   "outputs": [
    {
     "name": "stdout",
     "output_type": "stream",
     "text": [
      "Epoch 1/300\n",
      "9/9 [==============================] - 1s 121ms/step - loss: 0.3576 - val_loss: 0.1448\n",
      "Epoch 2/300\n",
      "9/9 [==============================] - 0s 44ms/step - loss: 0.1594 - val_loss: 0.1753\n",
      "Epoch 3/300\n",
      "9/9 [==============================] - 0s 46ms/step - loss: 0.1398 - val_loss: 0.1438\n",
      "Epoch 4/300\n",
      "9/9 [==============================] - 0s 47ms/step - loss: 0.1422 - val_loss: 0.1455\n",
      "Epoch 5/300\n",
      "9/9 [==============================] - 1s 59ms/step - loss: 0.1436 - val_loss: 0.1451\n",
      "Epoch 6/300\n",
      "9/9 [==============================] - 0s 44ms/step - loss: 0.1411 - val_loss: 0.1422\n",
      "Epoch 7/300\n",
      "9/9 [==============================] - 0s 48ms/step - loss: 0.1351 - val_loss: 0.1387\n",
      "Epoch 8/300\n",
      "9/9 [==============================] - 0s 49ms/step - loss: 0.1295 - val_loss: 0.1389\n",
      "Epoch 9/300\n",
      "9/9 [==============================] - 1s 58ms/step - loss: 0.1309 - val_loss: 0.1383\n",
      "Epoch 10/300\n",
      "9/9 [==============================] - 1s 62ms/step - loss: 0.1297 - val_loss: 0.1383\n",
      "Epoch 11/300\n",
      "9/9 [==============================] - 0s 46ms/step - loss: 0.1297 - val_loss: 0.1386\n",
      "Epoch 12/300\n",
      "9/9 [==============================] - 1s 68ms/step - loss: 0.1299 - val_loss: 0.1385\n",
      "Epoch 13/300\n",
      "9/9 [==============================] - 0s 54ms/step - loss: 0.1303 - val_loss: 0.1389\n",
      "Epoch 14/300\n",
      "9/9 [==============================] - 0s 45ms/step - loss: 0.1302 - val_loss: 0.1380\n",
      "Epoch 15/300\n",
      "9/9 [==============================] - 0s 48ms/step - loss: 0.1295 - val_loss: 0.1390\n",
      "Epoch 16/300\n",
      "9/9 [==============================] - 0s 47ms/step - loss: 0.1307 - val_loss: 0.1386\n",
      "Epoch 17/300\n",
      "9/9 [==============================] - 0s 47ms/step - loss: 0.1324 - val_loss: 0.1397\n",
      "Epoch 18/300\n",
      "9/9 [==============================] - 0s 46ms/step - loss: 0.1311 - val_loss: 0.1380\n",
      "Epoch 19/300\n",
      "9/9 [==============================] - 0s 49ms/step - loss: 0.1306 - val_loss: 0.1391\n",
      "Epoch 20/300\n",
      "9/9 [==============================] - 0s 47ms/step - loss: 0.1303 - val_loss: 0.1381\n",
      "Epoch 21/300\n",
      "9/9 [==============================] - 0s 49ms/step - loss: 0.1295 - val_loss: 0.1380\n",
      "Epoch 22/300\n",
      "9/9 [==============================] - 0s 54ms/step - loss: 0.1304 - val_loss: 0.1422\n",
      "Epoch 23/300\n",
      "9/9 [==============================] - 1s 62ms/step - loss: 0.1302 - val_loss: 0.1380\n",
      "Epoch 24/300\n",
      "9/9 [==============================] - 0s 46ms/step - loss: 0.1305 - val_loss: 0.1386\n",
      "Epoch 25/300\n",
      "9/9 [==============================] - 0s 43ms/step - loss: 0.1297 - val_loss: 0.1387\n",
      "Epoch 26/300\n",
      "9/9 [==============================] - 0s 42ms/step - loss: 0.1306 - val_loss: 0.1406\n",
      "Epoch 27/300\n",
      "9/9 [==============================] - 0s 45ms/step - loss: 0.1374 - val_loss: 0.1423\n"
     ]
    }
   ],
   "source": [
    "model_data = model.fit(X_train, y_train,\n",
    "                      validation_data = (X_valid, y_valid),\n",
    "                      batch_size = 128,\n",
    "                      epochs = 300,\n",
    "                      callbacks = [early_stopping])"
   ]
  },
  {
   "cell_type": "code",
   "execution_count": 9,
   "id": "2bcdfdf1",
   "metadata": {},
   "outputs": [
    {
     "data": {
      "text/html": [
       "<div>\n",
       "<style scoped>\n",
       "    .dataframe tbody tr th:only-of-type {\n",
       "        vertical-align: middle;\n",
       "    }\n",
       "\n",
       "    .dataframe tbody tr th {\n",
       "        vertical-align: top;\n",
       "    }\n",
       "\n",
       "    .dataframe thead th {\n",
       "        text-align: right;\n",
       "    }\n",
       "</style>\n",
       "<table border=\"1\" class=\"dataframe\">\n",
       "  <thead>\n",
       "    <tr style=\"text-align: right;\">\n",
       "      <th></th>\n",
       "      <th>loss</th>\n",
       "      <th>val_loss</th>\n",
       "    </tr>\n",
       "  </thead>\n",
       "  <tbody>\n",
       "    <tr>\n",
       "      <th>0</th>\n",
       "      <td>0.357624</td>\n",
       "      <td>0.144822</td>\n",
       "    </tr>\n",
       "    <tr>\n",
       "      <th>1</th>\n",
       "      <td>0.159429</td>\n",
       "      <td>0.175322</td>\n",
       "    </tr>\n",
       "    <tr>\n",
       "      <th>2</th>\n",
       "      <td>0.139828</td>\n",
       "      <td>0.143757</td>\n",
       "    </tr>\n",
       "    <tr>\n",
       "      <th>3</th>\n",
       "      <td>0.142172</td>\n",
       "      <td>0.145505</td>\n",
       "    </tr>\n",
       "    <tr>\n",
       "      <th>4</th>\n",
       "      <td>0.143608</td>\n",
       "      <td>0.145114</td>\n",
       "    </tr>\n",
       "  </tbody>\n",
       "</table>\n",
       "</div>"
      ],
      "text/plain": [
       "       loss  val_loss\n",
       "0  0.357624  0.144822\n",
       "1  0.159429  0.175322\n",
       "2  0.139828  0.143757\n",
       "3  0.142172  0.145505\n",
       "4  0.143608  0.145114"
      ]
     },
     "execution_count": 9,
     "metadata": {},
     "output_type": "execute_result"
    }
   ],
   "source": [
    "df_hist = pd.DataFrame(model_data.history)\n",
    "df_hist.head()"
   ]
  },
  {
   "cell_type": "code",
   "execution_count": 10,
   "id": "384bd0e4",
   "metadata": {},
   "outputs": [
    {
     "data": {
      "text/plain": [
       "<AxesSubplot:>"
      ]
     },
     "execution_count": 10,
     "metadata": {},
     "output_type": "execute_result"
    },
    {
     "data": {
      "image/png": "[encoded data removed]",
      "text/plain": [
       "<Figure size 432x288 with 1 Axes>"
      ]
     },
     "metadata": {
      "needs_background": "light"
     },
     "output_type": "display_data"
    }
   ],
   "source": [
    "df_hist.plot()"
   ]
  },
  {
   "cell_type": "code",
   "execution_count": 11,
   "id": "407888ff",
   "metadata": {},
   "outputs": [
    {
     "name": "stdout",
     "output_type": "stream",
     "text": [
      "Min Val_loss: 0.13799507915973663\n"
     ]
    }
   ],
   "source": [
    "print(f'Min Val_loss: {df_hist.val_loss.min()}')"
   ]
  },
  {
   "cell_type": "code",
   "execution_count": 12,
   "id": "2c9e6666",
   "metadata": {},
   "outputs": [
    {
     "name": "stdout",
     "output_type": "stream",
     "text": [
      "MAE:  0.13873315493265792\n"
     ]
    }
   ],
   "source": [
    "preds = model.predict(X_valid)\n",
    "mae = metrics.mean_absolute_error(preds, y_valid)\n",
    "print('MAE: ', mae)"
   ]
  },
  {
   "cell_type": "code",
   "execution_count": null,
   "id": "0eef89a9",
   "metadata": {},
   "outputs": [],
   "source": []
  }
 ],
 "metadata": {
  "kernelspec": {
   "display_name": "Python 3",
   "language": "python",
   "name": "python3"
  },
  "language_info": {
   "codemirror_mode": {
    "name": "ipython",
    "version": 3
   },
   "file_extension": ".py",
   "mimetype": "text/x-python",
   "name": "python",
   "nbconvert_exporter": "python",
   "pygments_lexer": "ipython3",
   "version": "3.8.8"
  }
 },
 "nbformat": 4,
 "nbformat_minor": 5
}
