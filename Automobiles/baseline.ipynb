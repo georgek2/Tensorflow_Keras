{
 "cells": [
  {
   "cell_type": "code",
   "execution_count": 1,
   "id": "0bd5273f",
   "metadata": {},
   "outputs": [],
   "source": [
    "import numpy as np\n",
    "import pandas as pd\n",
    "\n",
    "# Tree-Based Algorithms\n",
    "from sklearn.tree import DecisionTreeRegressor\n",
    "from sklearn.ensemble import RandomForestRegressor\n",
    "from xgboost import XGBRegressor\n",
    "\n",
    "# Distance-Based Algorithms\n",
    "from sklearn.neighbors import KNeighborsRegressor\n",
    "from sklearn.svm import SVR\n",
    "\n",
    "# Deep Learning Architecture\n",
    "from tensorflow import keras\n",
    "from tensorflow.keras import layers, callbacks\n",
    "\n",
    "# Data CLeaning and Preprocessing\n",
    "from sklearn.preprocessing import StandardScaler, LabelEncoder\n",
    "from sklearn.impute import SimpleImputer\n",
    "from sklearn.model_selection import train_test_split\n",
    "from sklearn.pipeline import Pipeline\n",
    "from sklearn.compose import ColumnTransformer\n",
    "\n",
    "# Model Evaluation\n",
    "from sklearn import metrics\n",
    "\n",
    "# For Reproducability\n",
    "np.random.seed(0)"
   ]
  },
  {
   "cell_type": "code",
   "execution_count": 2,
   "id": "68154e2e",
   "metadata": {},
   "outputs": [
    {
     "data": {
      "text/html": [
       "<div>\n",
       "<style scoped>\n",
       "    .dataframe tbody tr th:only-of-type {\n",
       "        vertical-align: middle;\n",
       "    }\n",
       "\n",
       "    .dataframe tbody tr th {\n",
       "        vertical-align: top;\n",
       "    }\n",
       "\n",
       "    .dataframe thead th {\n",
       "        text-align: right;\n",
       "    }\n",
       "</style>\n",
       "<table border=\"1\" class=\"dataframe\">\n",
       "  <thead>\n",
       "    <tr style=\"text-align: right;\">\n",
       "      <th></th>\n",
       "      <th>symboling</th>\n",
       "      <th>make</th>\n",
       "      <th>fuel_type</th>\n",
       "      <th>aspiration</th>\n",
       "      <th>num_of_doors</th>\n",
       "      <th>body_style</th>\n",
       "      <th>drive_wheels</th>\n",
       "      <th>engine_location</th>\n",
       "      <th>wheel_base</th>\n",
       "      <th>length</th>\n",
       "      <th>...</th>\n",
       "      <th>engine_size</th>\n",
       "      <th>fuel_system</th>\n",
       "      <th>bore</th>\n",
       "      <th>stroke</th>\n",
       "      <th>compression_ratio</th>\n",
       "      <th>horsepower</th>\n",
       "      <th>peak_rpm</th>\n",
       "      <th>city_mpg</th>\n",
       "      <th>highway_mpg</th>\n",
       "      <th>price</th>\n",
       "    </tr>\n",
       "  </thead>\n",
       "  <tbody>\n",
       "    <tr>\n",
       "      <th>0</th>\n",
       "      <td>3</td>\n",
       "      <td>alfa-romero</td>\n",
       "      <td>gas</td>\n",
       "      <td>std</td>\n",
       "      <td>2</td>\n",
       "      <td>convertible</td>\n",
       "      <td>rwd</td>\n",
       "      <td>front</td>\n",
       "      <td>88.6</td>\n",
       "      <td>168.8</td>\n",
       "      <td>...</td>\n",
       "      <td>130</td>\n",
       "      <td>mpfi</td>\n",
       "      <td>3.47</td>\n",
       "      <td>2.68</td>\n",
       "      <td>9</td>\n",
       "      <td>111</td>\n",
       "      <td>5000</td>\n",
       "      <td>21</td>\n",
       "      <td>27</td>\n",
       "      <td>13495</td>\n",
       "    </tr>\n",
       "    <tr>\n",
       "      <th>1</th>\n",
       "      <td>3</td>\n",
       "      <td>alfa-romero</td>\n",
       "      <td>gas</td>\n",
       "      <td>std</td>\n",
       "      <td>2</td>\n",
       "      <td>convertible</td>\n",
       "      <td>rwd</td>\n",
       "      <td>front</td>\n",
       "      <td>88.6</td>\n",
       "      <td>168.8</td>\n",
       "      <td>...</td>\n",
       "      <td>130</td>\n",
       "      <td>mpfi</td>\n",
       "      <td>3.47</td>\n",
       "      <td>2.68</td>\n",
       "      <td>9</td>\n",
       "      <td>111</td>\n",
       "      <td>5000</td>\n",
       "      <td>21</td>\n",
       "      <td>27</td>\n",
       "      <td>16500</td>\n",
       "    </tr>\n",
       "    <tr>\n",
       "      <th>2</th>\n",
       "      <td>1</td>\n",
       "      <td>alfa-romero</td>\n",
       "      <td>gas</td>\n",
       "      <td>std</td>\n",
       "      <td>2</td>\n",
       "      <td>hatchback</td>\n",
       "      <td>rwd</td>\n",
       "      <td>front</td>\n",
       "      <td>94.5</td>\n",
       "      <td>171.2</td>\n",
       "      <td>...</td>\n",
       "      <td>152</td>\n",
       "      <td>mpfi</td>\n",
       "      <td>2.68</td>\n",
       "      <td>3.47</td>\n",
       "      <td>9</td>\n",
       "      <td>154</td>\n",
       "      <td>5000</td>\n",
       "      <td>19</td>\n",
       "      <td>26</td>\n",
       "      <td>16500</td>\n",
       "    </tr>\n",
       "    <tr>\n",
       "      <th>3</th>\n",
       "      <td>2</td>\n",
       "      <td>audi</td>\n",
       "      <td>gas</td>\n",
       "      <td>std</td>\n",
       "      <td>4</td>\n",
       "      <td>sedan</td>\n",
       "      <td>fwd</td>\n",
       "      <td>front</td>\n",
       "      <td>99.8</td>\n",
       "      <td>176.6</td>\n",
       "      <td>...</td>\n",
       "      <td>109</td>\n",
       "      <td>mpfi</td>\n",
       "      <td>3.19</td>\n",
       "      <td>3.40</td>\n",
       "      <td>10</td>\n",
       "      <td>102</td>\n",
       "      <td>5500</td>\n",
       "      <td>24</td>\n",
       "      <td>30</td>\n",
       "      <td>13950</td>\n",
       "    </tr>\n",
       "    <tr>\n",
       "      <th>4</th>\n",
       "      <td>2</td>\n",
       "      <td>audi</td>\n",
       "      <td>gas</td>\n",
       "      <td>std</td>\n",
       "      <td>4</td>\n",
       "      <td>sedan</td>\n",
       "      <td>4wd</td>\n",
       "      <td>front</td>\n",
       "      <td>99.4</td>\n",
       "      <td>176.6</td>\n",
       "      <td>...</td>\n",
       "      <td>136</td>\n",
       "      <td>mpfi</td>\n",
       "      <td>3.19</td>\n",
       "      <td>3.40</td>\n",
       "      <td>8</td>\n",
       "      <td>115</td>\n",
       "      <td>5500</td>\n",
       "      <td>18</td>\n",
       "      <td>22</td>\n",
       "      <td>17450</td>\n",
       "    </tr>\n",
       "  </tbody>\n",
       "</table>\n",
       "<p>5 rows × 25 columns</p>\n",
       "</div>"
      ],
      "text/plain": [
       "   symboling         make fuel_type aspiration  num_of_doors   body_style  \\\n",
       "0          3  alfa-romero       gas        std             2  convertible   \n",
       "1          3  alfa-romero       gas        std             2  convertible   \n",
       "2          1  alfa-romero       gas        std             2    hatchback   \n",
       "3          2         audi       gas        std             4        sedan   \n",
       "4          2         audi       gas        std             4        sedan   \n",
       "\n",
       "  drive_wheels engine_location  wheel_base  length  ...  engine_size  \\\n",
       "0          rwd           front        88.6   168.8  ...          130   \n",
       "1          rwd           front        88.6   168.8  ...          130   \n",
       "2          rwd           front        94.5   171.2  ...          152   \n",
       "3          fwd           front        99.8   176.6  ...          109   \n",
       "4          4wd           front        99.4   176.6  ...          136   \n",
       "\n",
       "   fuel_system  bore stroke  compression_ratio  horsepower peak_rpm  city_mpg  \\\n",
       "0         mpfi  3.47   2.68                  9         111     5000        21   \n",
       "1         mpfi  3.47   2.68                  9         111     5000        21   \n",
       "2         mpfi  2.68   3.47                  9         154     5000        19   \n",
       "3         mpfi  3.19   3.40                 10         102     5500        24   \n",
       "4         mpfi  3.19   3.40                  8         115     5500        18   \n",
       "\n",
       "   highway_mpg  price  \n",
       "0           27  13495  \n",
       "1           27  16500  \n",
       "2           26  16500  \n",
       "3           30  13950  \n",
       "4           22  17450  \n",
       "\n",
       "[5 rows x 25 columns]"
      ]
     },
     "execution_count": 2,
     "metadata": {},
     "output_type": "execute_result"
    }
   ],
   "source": [
    "data = pd.read_csv('autos.csv')\n",
    "data.head()"
   ]
  },
  {
   "cell_type": "code",
   "execution_count": 3,
   "id": "7168e959",
   "metadata": {},
   "outputs": [
    {
     "data": {
      "text/plain": [
       "(193, 25)"
      ]
     },
     "execution_count": 3,
     "metadata": {},
     "output_type": "execute_result"
    }
   ],
   "source": [
    "data.shape"
   ]
  },
  {
   "cell_type": "code",
   "execution_count": 4,
   "id": "128080df",
   "metadata": {},
   "outputs": [
    {
     "name": "stdout",
     "output_type": "stream",
     "text": [
      "<class 'pandas.core.frame.DataFrame'>\n",
      "RangeIndex: 193 entries, 0 to 192\n",
      "Data columns (total 25 columns):\n",
      " #   Column             Non-Null Count  Dtype  \n",
      "---  ------             --------------  -----  \n",
      " 0   symboling          193 non-null    int64  \n",
      " 1   make               193 non-null    object \n",
      " 2   fuel_type          193 non-null    object \n",
      " 3   aspiration         193 non-null    object \n",
      " 4   num_of_doors       193 non-null    int64  \n",
      " 5   body_style         193 non-null    object \n",
      " 6   drive_wheels       193 non-null    object \n",
      " 7   engine_location    193 non-null    object \n",
      " 8   wheel_base         193 non-null    float64\n",
      " 9   length             193 non-null    float64\n",
      " 10  width              193 non-null    float64\n",
      " 11  height             193 non-null    float64\n",
      " 12  curb_weight        193 non-null    int64  \n",
      " 13  engine_type        193 non-null    object \n",
      " 14  num_of_cylinders   193 non-null    int64  \n",
      " 15  engine_size        193 non-null    int64  \n",
      " 16  fuel_system        193 non-null    object \n",
      " 17  bore               193 non-null    float64\n",
      " 18  stroke             193 non-null    float64\n",
      " 19  compression_ratio  193 non-null    int64  \n",
      " 20  horsepower         193 non-null    int64  \n",
      " 21  peak_rpm           193 non-null    int64  \n",
      " 22  city_mpg           193 non-null    int64  \n",
      " 23  highway_mpg        193 non-null    int64  \n",
      " 24  price              193 non-null    int64  \n",
      "dtypes: float64(6), int64(11), object(8)\n",
      "memory usage: 37.8+ KB\n"
     ]
    }
   ],
   "source": [
    "data.info()"
   ]
  },
  {
   "cell_type": "code",
   "execution_count": 5,
   "id": "b874cda8",
   "metadata": {},
   "outputs": [
    {
     "data": {
      "text/plain": [
       "symboling            0\n",
       "make                 0\n",
       "fuel_type            0\n",
       "aspiration           0\n",
       "num_of_doors         0\n",
       "body_style           0\n",
       "drive_wheels         0\n",
       "engine_location      0\n",
       "wheel_base           0\n",
       "length               0\n",
       "width                0\n",
       "height               0\n",
       "curb_weight          0\n",
       "engine_type          0\n",
       "num_of_cylinders     0\n",
       "engine_size          0\n",
       "fuel_system          0\n",
       "bore                 0\n",
       "stroke               0\n",
       "compression_ratio    0\n",
       "horsepower           0\n",
       "peak_rpm             0\n",
       "city_mpg             0\n",
       "highway_mpg          0\n",
       "price                0\n",
       "dtype: int64"
      ]
     },
     "execution_count": 5,
     "metadata": {},
     "output_type": "execute_result"
    }
   ],
   "source": [
    "data.isnull().sum()"
   ]
  },
  {
   "cell_type": "code",
   "execution_count": 6,
   "id": "34017942",
   "metadata": {},
   "outputs": [
    {
     "data": {
      "text/html": [
       "<div>\n",
       "<style scoped>\n",
       "    .dataframe tbody tr th:only-of-type {\n",
       "        vertical-align: middle;\n",
       "    }\n",
       "\n",
       "    .dataframe tbody tr th {\n",
       "        vertical-align: top;\n",
       "    }\n",
       "\n",
       "    .dataframe thead th {\n",
       "        text-align: right;\n",
       "    }\n",
       "</style>\n",
       "<table border=\"1\" class=\"dataframe\">\n",
       "  <thead>\n",
       "    <tr style=\"text-align: right;\">\n",
       "      <th></th>\n",
       "      <th>make</th>\n",
       "      <th>fuel_type</th>\n",
       "      <th>aspiration</th>\n",
       "      <th>body_style</th>\n",
       "      <th>drive_wheels</th>\n",
       "      <th>engine_location</th>\n",
       "      <th>engine_type</th>\n",
       "      <th>fuel_system</th>\n",
       "    </tr>\n",
       "  </thead>\n",
       "  <tbody>\n",
       "    <tr>\n",
       "      <th>0</th>\n",
       "      <td>alfa-romero</td>\n",
       "      <td>gas</td>\n",
       "      <td>std</td>\n",
       "      <td>convertible</td>\n",
       "      <td>rwd</td>\n",
       "      <td>front</td>\n",
       "      <td>dohc</td>\n",
       "      <td>mpfi</td>\n",
       "    </tr>\n",
       "    <tr>\n",
       "      <th>1</th>\n",
       "      <td>alfa-romero</td>\n",
       "      <td>gas</td>\n",
       "      <td>std</td>\n",
       "      <td>convertible</td>\n",
       "      <td>rwd</td>\n",
       "      <td>front</td>\n",
       "      <td>dohc</td>\n",
       "      <td>mpfi</td>\n",
       "    </tr>\n",
       "    <tr>\n",
       "      <th>2</th>\n",
       "      <td>alfa-romero</td>\n",
       "      <td>gas</td>\n",
       "      <td>std</td>\n",
       "      <td>hatchback</td>\n",
       "      <td>rwd</td>\n",
       "      <td>front</td>\n",
       "      <td>ohcv</td>\n",
       "      <td>mpfi</td>\n",
       "    </tr>\n",
       "    <tr>\n",
       "      <th>3</th>\n",
       "      <td>audi</td>\n",
       "      <td>gas</td>\n",
       "      <td>std</td>\n",
       "      <td>sedan</td>\n",
       "      <td>fwd</td>\n",
       "      <td>front</td>\n",
       "      <td>ohc</td>\n",
       "      <td>mpfi</td>\n",
       "    </tr>\n",
       "    <tr>\n",
       "      <th>4</th>\n",
       "      <td>audi</td>\n",
       "      <td>gas</td>\n",
       "      <td>std</td>\n",
       "      <td>sedan</td>\n",
       "      <td>4wd</td>\n",
       "      <td>front</td>\n",
       "      <td>ohc</td>\n",
       "      <td>mpfi</td>\n",
       "    </tr>\n",
       "  </tbody>\n",
       "</table>\n",
       "</div>"
      ],
      "text/plain": [
       "          make fuel_type aspiration   body_style drive_wheels engine_location  \\\n",
       "0  alfa-romero       gas        std  convertible          rwd           front   \n",
       "1  alfa-romero       gas        std  convertible          rwd           front   \n",
       "2  alfa-romero       gas        std    hatchback          rwd           front   \n",
       "3         audi       gas        std        sedan          fwd           front   \n",
       "4         audi       gas        std        sedan          4wd           front   \n",
       "\n",
       "  engine_type fuel_system  \n",
       "0        dohc        mpfi  \n",
       "1        dohc        mpfi  \n",
       "2        ohcv        mpfi  \n",
       "3         ohc        mpfi  \n",
       "4         ohc        mpfi  "
      ]
     },
     "execution_count": 6,
     "metadata": {},
     "output_type": "execute_result"
    }
   ],
   "source": [
    "cat_cols = [col for col in data.columns if data[col].dtype == 'object']\n",
    "data[cat_cols].head()"
   ]
  },
  {
   "cell_type": "markdown",
   "id": "690fda31",
   "metadata": {},
   "source": [
    "Inspecting the cardinality"
   ]
  },
  {
   "cell_type": "code",
   "execution_count": 7,
   "id": "11344352",
   "metadata": {},
   "outputs": [
    {
     "data": {
      "text/plain": [
       "make               21\n",
       "fuel_type           2\n",
       "aspiration          2\n",
       "body_style          5\n",
       "drive_wheels        3\n",
       "engine_location     2\n",
       "engine_type         5\n",
       "fuel_system         7\n",
       "dtype: int64"
      ]
     },
     "execution_count": 7,
     "metadata": {},
     "output_type": "execute_result"
    }
   ],
   "source": [
    "data[cat_cols].nunique()"
   ]
  },
  {
   "cell_type": "markdown",
   "id": "9453d021",
   "metadata": {},
   "source": [
    "Inspecting data consistency and entry errors"
   ]
  },
  {
   "cell_type": "code",
   "execution_count": 8,
   "id": "fc337106",
   "metadata": {},
   "outputs": [],
   "source": [
    "# def count_cats(df):\n",
    "#     entries = {}\n",
    "#     for col in df.columns:\n",
    "#         entries[col] = df[col].unique()\n",
    "#     return entries\n",
    "\n",
    "def count_cats(df):\n",
    "    entries = {col: df[col].unique() for col in df.columns}\n",
    "    return entries"
   ]
  },
  {
   "cell_type": "code",
   "execution_count": 9,
   "id": "8c783e53",
   "metadata": {},
   "outputs": [
    {
     "data": {
      "text/plain": [
       "{'make': array(['alfa-romero', 'audi', 'bmw', 'chevrolet', 'dodge', 'honda',\n",
       "        'isuzu', 'jaguar', 'mazda', 'mercedes-benz', 'mercury',\n",
       "        'mitsubishi', 'nissan', 'peugot', 'plymouth', 'porsche', 'saab',\n",
       "        'subaru', 'toyota', 'volkswagen', 'volvo'], dtype=object),\n",
       " 'fuel_type': array(['gas', 'diesel'], dtype=object),\n",
       " 'aspiration': array(['std', 'turbo'], dtype=object),\n",
       " 'body_style': array(['convertible', 'hatchback', 'sedan', 'wagon', 'hardtop'],\n",
       "       dtype=object),\n",
       " 'drive_wheels': array(['rwd', 'fwd', '4wd'], dtype=object),\n",
       " 'engine_location': array(['front', 'rear'], dtype=object),\n",
       " 'engine_type': array(['dohc', 'ohcv', 'ohc', 'l', 'ohcf'], dtype=object),\n",
       " 'fuel_system': array(['mpfi', '2bbl', 'mfi', '1bbl', 'spfi', 'idi', 'spdi'], dtype=object)}"
      ]
     },
     "execution_count": 9,
     "metadata": {},
     "output_type": "execute_result"
    }
   ],
   "source": [
    "count_cats(data[cat_cols])"
   ]
  },
  {
   "cell_type": "code",
   "execution_count": 10,
   "id": "46ac89b5",
   "metadata": {},
   "outputs": [
    {
     "data": {
      "text/plain": [
       "toyota           32\n",
       "nissan           18\n",
       "mitsubishi       13\n",
       "honda            13\n",
       "mazda            12\n",
       "volkswagen       12\n",
       "subaru           12\n",
       "volvo            11\n",
       "peugot           11\n",
       "bmw               8\n",
       "mercedes-benz     8\n",
       "dodge             8\n",
       "plymouth          7\n",
       "saab              6\n",
       "audi              6\n",
       "porsche           4\n",
       "chevrolet         3\n",
       "alfa-romero       3\n",
       "jaguar            3\n",
       "isuzu             2\n",
       "mercury           1\n",
       "Name: make, dtype: int64"
      ]
     },
     "execution_count": 10,
     "metadata": {},
     "output_type": "execute_result"
    }
   ],
   "source": [
    "data['make'].value_counts()"
   ]
  },
  {
   "cell_type": "markdown",
   "id": "5e62d04f",
   "metadata": {},
   "source": [
    "Separating the features and the target"
   ]
  },
  {
   "cell_type": "code",
   "execution_count": 11,
   "id": "8fa35918",
   "metadata": {},
   "outputs": [],
   "source": [
    "X = data.drop('price', axis = 1)\n",
    "y = data.price"
   ]
  },
  {
   "cell_type": "code",
   "execution_count": 12,
   "id": "4a31d1d5",
   "metadata": {},
   "outputs": [],
   "source": [
    "encoder = LabelEncoder()"
   ]
  },
  {
   "cell_type": "code",
   "execution_count": 13,
   "id": "07a93576",
   "metadata": {},
   "outputs": [
    {
     "data": {
      "text/html": [
       "<div>\n",
       "<style scoped>\n",
       "    .dataframe tbody tr th:only-of-type {\n",
       "        vertical-align: middle;\n",
       "    }\n",
       "\n",
       "    .dataframe tbody tr th {\n",
       "        vertical-align: top;\n",
       "    }\n",
       "\n",
       "    .dataframe thead th {\n",
       "        text-align: right;\n",
       "    }\n",
       "</style>\n",
       "<table border=\"1\" class=\"dataframe\">\n",
       "  <thead>\n",
       "    <tr style=\"text-align: right;\">\n",
       "      <th></th>\n",
       "      <th>symboling</th>\n",
       "      <th>make</th>\n",
       "      <th>fuel_type</th>\n",
       "      <th>aspiration</th>\n",
       "      <th>num_of_doors</th>\n",
       "      <th>body_style</th>\n",
       "      <th>drive_wheels</th>\n",
       "      <th>engine_location</th>\n",
       "      <th>wheel_base</th>\n",
       "      <th>length</th>\n",
       "      <th>...</th>\n",
       "      <th>city_mpg</th>\n",
       "      <th>highway_mpg</th>\n",
       "      <th>make_label</th>\n",
       "      <th>fuel_type_label</th>\n",
       "      <th>aspiration_label</th>\n",
       "      <th>body_style_label</th>\n",
       "      <th>drive_wheels_label</th>\n",
       "      <th>engine_location_label</th>\n",
       "      <th>engine_type_label</th>\n",
       "      <th>fuel_system_label</th>\n",
       "    </tr>\n",
       "  </thead>\n",
       "  <tbody>\n",
       "    <tr>\n",
       "      <th>0</th>\n",
       "      <td>3</td>\n",
       "      <td>alfa-romero</td>\n",
       "      <td>gas</td>\n",
       "      <td>std</td>\n",
       "      <td>2</td>\n",
       "      <td>convertible</td>\n",
       "      <td>rwd</td>\n",
       "      <td>front</td>\n",
       "      <td>88.6</td>\n",
       "      <td>168.8</td>\n",
       "      <td>...</td>\n",
       "      <td>21</td>\n",
       "      <td>27</td>\n",
       "      <td>0</td>\n",
       "      <td>1</td>\n",
       "      <td>0</td>\n",
       "      <td>0</td>\n",
       "      <td>2</td>\n",
       "      <td>0</td>\n",
       "      <td>0</td>\n",
       "      <td>4</td>\n",
       "    </tr>\n",
       "    <tr>\n",
       "      <th>1</th>\n",
       "      <td>3</td>\n",
       "      <td>alfa-romero</td>\n",
       "      <td>gas</td>\n",
       "      <td>std</td>\n",
       "      <td>2</td>\n",
       "      <td>convertible</td>\n",
       "      <td>rwd</td>\n",
       "      <td>front</td>\n",
       "      <td>88.6</td>\n",
       "      <td>168.8</td>\n",
       "      <td>...</td>\n",
       "      <td>21</td>\n",
       "      <td>27</td>\n",
       "      <td>0</td>\n",
       "      <td>1</td>\n",
       "      <td>0</td>\n",
       "      <td>0</td>\n",
       "      <td>2</td>\n",
       "      <td>0</td>\n",
       "      <td>0</td>\n",
       "      <td>4</td>\n",
       "    </tr>\n",
       "    <tr>\n",
       "      <th>2</th>\n",
       "      <td>1</td>\n",
       "      <td>alfa-romero</td>\n",
       "      <td>gas</td>\n",
       "      <td>std</td>\n",
       "      <td>2</td>\n",
       "      <td>hatchback</td>\n",
       "      <td>rwd</td>\n",
       "      <td>front</td>\n",
       "      <td>94.5</td>\n",
       "      <td>171.2</td>\n",
       "      <td>...</td>\n",
       "      <td>19</td>\n",
       "      <td>26</td>\n",
       "      <td>0</td>\n",
       "      <td>1</td>\n",
       "      <td>0</td>\n",
       "      <td>2</td>\n",
       "      <td>2</td>\n",
       "      <td>0</td>\n",
       "      <td>4</td>\n",
       "      <td>4</td>\n",
       "    </tr>\n",
       "    <tr>\n",
       "      <th>3</th>\n",
       "      <td>2</td>\n",
       "      <td>audi</td>\n",
       "      <td>gas</td>\n",
       "      <td>std</td>\n",
       "      <td>4</td>\n",
       "      <td>sedan</td>\n",
       "      <td>fwd</td>\n",
       "      <td>front</td>\n",
       "      <td>99.8</td>\n",
       "      <td>176.6</td>\n",
       "      <td>...</td>\n",
       "      <td>24</td>\n",
       "      <td>30</td>\n",
       "      <td>1</td>\n",
       "      <td>1</td>\n",
       "      <td>0</td>\n",
       "      <td>3</td>\n",
       "      <td>1</td>\n",
       "      <td>0</td>\n",
       "      <td>2</td>\n",
       "      <td>4</td>\n",
       "    </tr>\n",
       "    <tr>\n",
       "      <th>4</th>\n",
       "      <td>2</td>\n",
       "      <td>audi</td>\n",
       "      <td>gas</td>\n",
       "      <td>std</td>\n",
       "      <td>4</td>\n",
       "      <td>sedan</td>\n",
       "      <td>4wd</td>\n",
       "      <td>front</td>\n",
       "      <td>99.4</td>\n",
       "      <td>176.6</td>\n",
       "      <td>...</td>\n",
       "      <td>18</td>\n",
       "      <td>22</td>\n",
       "      <td>1</td>\n",
       "      <td>1</td>\n",
       "      <td>0</td>\n",
       "      <td>3</td>\n",
       "      <td>0</td>\n",
       "      <td>0</td>\n",
       "      <td>2</td>\n",
       "      <td>4</td>\n",
       "    </tr>\n",
       "  </tbody>\n",
       "</table>\n",
       "<p>5 rows × 32 columns</p>\n",
       "</div>"
      ],
      "text/plain": [
       "   symboling         make fuel_type aspiration  num_of_doors   body_style  \\\n",
       "0          3  alfa-romero       gas        std             2  convertible   \n",
       "1          3  alfa-romero       gas        std             2  convertible   \n",
       "2          1  alfa-romero       gas        std             2    hatchback   \n",
       "3          2         audi       gas        std             4        sedan   \n",
       "4          2         audi       gas        std             4        sedan   \n",
       "\n",
       "  drive_wheels engine_location  wheel_base  length  ...  city_mpg  \\\n",
       "0          rwd           front        88.6   168.8  ...        21   \n",
       "1          rwd           front        88.6   168.8  ...        21   \n",
       "2          rwd           front        94.5   171.2  ...        19   \n",
       "3          fwd           front        99.8   176.6  ...        24   \n",
       "4          4wd           front        99.4   176.6  ...        18   \n",
       "\n",
       "   highway_mpg  make_label fuel_type_label  aspiration_label  \\\n",
       "0           27           0               1                 0   \n",
       "1           27           0               1                 0   \n",
       "2           26           0               1                 0   \n",
       "3           30           1               1                 0   \n",
       "4           22           1               1                 0   \n",
       "\n",
       "   body_style_label drive_wheels_label  engine_location_label  \\\n",
       "0                 0                  2                      0   \n",
       "1                 0                  2                      0   \n",
       "2                 2                  2                      0   \n",
       "3                 3                  1                      0   \n",
       "4                 3                  0                      0   \n",
       "\n",
       "   engine_type_label  fuel_system_label  \n",
       "0                  0                  4  \n",
       "1                  0                  4  \n",
       "2                  4                  4  \n",
       "3                  2                  4  \n",
       "4                  2                  4  \n",
       "\n",
       "[5 rows x 32 columns]"
      ]
     },
     "execution_count": 13,
     "metadata": {},
     "output_type": "execute_result"
    }
   ],
   "source": [
    "X = X.join(X[cat_cols].apply(encoder.fit_transform).add_suffix('_label'))\n",
    "\n",
    "X.head()"
   ]
  },
  {
   "cell_type": "code",
   "execution_count": 14,
   "id": "4197ec43",
   "metadata": {},
   "outputs": [
    {
     "data": {
      "text/html": [
       "<div>\n",
       "<style scoped>\n",
       "    .dataframe tbody tr th:only-of-type {\n",
       "        vertical-align: middle;\n",
       "    }\n",
       "\n",
       "    .dataframe tbody tr th {\n",
       "        vertical-align: top;\n",
       "    }\n",
       "\n",
       "    .dataframe thead th {\n",
       "        text-align: right;\n",
       "    }\n",
       "</style>\n",
       "<table border=\"1\" class=\"dataframe\">\n",
       "  <thead>\n",
       "    <tr style=\"text-align: right;\">\n",
       "      <th></th>\n",
       "      <th>symboling</th>\n",
       "      <th>num_of_doors</th>\n",
       "      <th>wheel_base</th>\n",
       "      <th>length</th>\n",
       "      <th>width</th>\n",
       "      <th>height</th>\n",
       "      <th>curb_weight</th>\n",
       "      <th>num_of_cylinders</th>\n",
       "      <th>engine_size</th>\n",
       "      <th>bore</th>\n",
       "      <th>...</th>\n",
       "      <th>city_mpg</th>\n",
       "      <th>highway_mpg</th>\n",
       "      <th>make_label</th>\n",
       "      <th>fuel_type_label</th>\n",
       "      <th>aspiration_label</th>\n",
       "      <th>body_style_label</th>\n",
       "      <th>drive_wheels_label</th>\n",
       "      <th>engine_location_label</th>\n",
       "      <th>engine_type_label</th>\n",
       "      <th>fuel_system_label</th>\n",
       "    </tr>\n",
       "  </thead>\n",
       "  <tbody>\n",
       "    <tr>\n",
       "      <th>0</th>\n",
       "      <td>3</td>\n",
       "      <td>2</td>\n",
       "      <td>88.6</td>\n",
       "      <td>168.8</td>\n",
       "      <td>64.1</td>\n",
       "      <td>48.8</td>\n",
       "      <td>2548</td>\n",
       "      <td>4</td>\n",
       "      <td>130</td>\n",
       "      <td>3.47</td>\n",
       "      <td>...</td>\n",
       "      <td>21</td>\n",
       "      <td>27</td>\n",
       "      <td>0</td>\n",
       "      <td>1</td>\n",
       "      <td>0</td>\n",
       "      <td>0</td>\n",
       "      <td>2</td>\n",
       "      <td>0</td>\n",
       "      <td>0</td>\n",
       "      <td>4</td>\n",
       "    </tr>\n",
       "    <tr>\n",
       "      <th>1</th>\n",
       "      <td>3</td>\n",
       "      <td>2</td>\n",
       "      <td>88.6</td>\n",
       "      <td>168.8</td>\n",
       "      <td>64.1</td>\n",
       "      <td>48.8</td>\n",
       "      <td>2548</td>\n",
       "      <td>4</td>\n",
       "      <td>130</td>\n",
       "      <td>3.47</td>\n",
       "      <td>...</td>\n",
       "      <td>21</td>\n",
       "      <td>27</td>\n",
       "      <td>0</td>\n",
       "      <td>1</td>\n",
       "      <td>0</td>\n",
       "      <td>0</td>\n",
       "      <td>2</td>\n",
       "      <td>0</td>\n",
       "      <td>0</td>\n",
       "      <td>4</td>\n",
       "    </tr>\n",
       "    <tr>\n",
       "      <th>2</th>\n",
       "      <td>1</td>\n",
       "      <td>2</td>\n",
       "      <td>94.5</td>\n",
       "      <td>171.2</td>\n",
       "      <td>65.5</td>\n",
       "      <td>52.4</td>\n",
       "      <td>2823</td>\n",
       "      <td>6</td>\n",
       "      <td>152</td>\n",
       "      <td>2.68</td>\n",
       "      <td>...</td>\n",
       "      <td>19</td>\n",
       "      <td>26</td>\n",
       "      <td>0</td>\n",
       "      <td>1</td>\n",
       "      <td>0</td>\n",
       "      <td>2</td>\n",
       "      <td>2</td>\n",
       "      <td>0</td>\n",
       "      <td>4</td>\n",
       "      <td>4</td>\n",
       "    </tr>\n",
       "    <tr>\n",
       "      <th>3</th>\n",
       "      <td>2</td>\n",
       "      <td>4</td>\n",
       "      <td>99.8</td>\n",
       "      <td>176.6</td>\n",
       "      <td>66.2</td>\n",
       "      <td>54.3</td>\n",
       "      <td>2337</td>\n",
       "      <td>4</td>\n",
       "      <td>109</td>\n",
       "      <td>3.19</td>\n",
       "      <td>...</td>\n",
       "      <td>24</td>\n",
       "      <td>30</td>\n",
       "      <td>1</td>\n",
       "      <td>1</td>\n",
       "      <td>0</td>\n",
       "      <td>3</td>\n",
       "      <td>1</td>\n",
       "      <td>0</td>\n",
       "      <td>2</td>\n",
       "      <td>4</td>\n",
       "    </tr>\n",
       "    <tr>\n",
       "      <th>4</th>\n",
       "      <td>2</td>\n",
       "      <td>4</td>\n",
       "      <td>99.4</td>\n",
       "      <td>176.6</td>\n",
       "      <td>66.4</td>\n",
       "      <td>54.3</td>\n",
       "      <td>2824</td>\n",
       "      <td>5</td>\n",
       "      <td>136</td>\n",
       "      <td>3.19</td>\n",
       "      <td>...</td>\n",
       "      <td>18</td>\n",
       "      <td>22</td>\n",
       "      <td>1</td>\n",
       "      <td>1</td>\n",
       "      <td>0</td>\n",
       "      <td>3</td>\n",
       "      <td>0</td>\n",
       "      <td>0</td>\n",
       "      <td>2</td>\n",
       "      <td>4</td>\n",
       "    </tr>\n",
       "  </tbody>\n",
       "</table>\n",
       "<p>5 rows × 24 columns</p>\n",
       "</div>"
      ],
      "text/plain": [
       "   symboling  num_of_doors  wheel_base  length  width  height  curb_weight  \\\n",
       "0          3             2        88.6   168.8   64.1    48.8         2548   \n",
       "1          3             2        88.6   168.8   64.1    48.8         2548   \n",
       "2          1             2        94.5   171.2   65.5    52.4         2823   \n",
       "3          2             4        99.8   176.6   66.2    54.3         2337   \n",
       "4          2             4        99.4   176.6   66.4    54.3         2824   \n",
       "\n",
       "   num_of_cylinders  engine_size  bore  ...  city_mpg  highway_mpg  \\\n",
       "0                 4          130  3.47  ...        21           27   \n",
       "1                 4          130  3.47  ...        21           27   \n",
       "2                 6          152  2.68  ...        19           26   \n",
       "3                 4          109  3.19  ...        24           30   \n",
       "4                 5          136  3.19  ...        18           22   \n",
       "\n",
       "   make_label  fuel_type_label  aspiration_label  body_style_label  \\\n",
       "0           0                1                 0                 0   \n",
       "1           0                1                 0                 0   \n",
       "2           0                1                 0                 2   \n",
       "3           1                1                 0                 3   \n",
       "4           1                1                 0                 3   \n",
       "\n",
       "   drive_wheels_label  engine_location_label  engine_type_label  \\\n",
       "0                   2                      0                  0   \n",
       "1                   2                      0                  0   \n",
       "2                   2                      0                  4   \n",
       "3                   1                      0                  2   \n",
       "4                   0                      0                  2   \n",
       "\n",
       "   fuel_system_label  \n",
       "0                  4  \n",
       "1                  4  \n",
       "2                  4  \n",
       "3                  4  \n",
       "4                  4  \n",
       "\n",
       "[5 rows x 24 columns]"
      ]
     },
     "execution_count": 14,
     "metadata": {},
     "output_type": "execute_result"
    }
   ],
   "source": [
    "X = X.drop(cat_cols, axis = 1)\n",
    "X.head()"
   ]
  },
  {
   "cell_type": "code",
   "execution_count": 15,
   "id": "947eca6b",
   "metadata": {},
   "outputs": [],
   "source": [
    "X_train, X_valid, y_train, y_valid = train_test_split(X, y, test_size = 0.23, random_state=0)"
   ]
  },
  {
   "cell_type": "markdown",
   "id": "4b2fe809",
   "metadata": {},
   "source": [
    "+ ### Without Scaling"
   ]
  },
  {
   "cell_type": "markdown",
   "id": "33594b2e",
   "metadata": {},
   "source": [
    "DecisionTree"
   ]
  },
  {
   "cell_type": "code",
   "execution_count": 16,
   "id": "3d214f06",
   "metadata": {},
   "outputs": [
    {
     "data": {
      "text/plain": [
       "DecisionTreeRegressor(random_state=11)"
      ]
     },
     "execution_count": 16,
     "metadata": {},
     "output_type": "execute_result"
    }
   ],
   "source": [
    "model_dt = DecisionTreeRegressor(random_state = 11)\n",
    "model_dt.fit(X_train, y_train)"
   ]
  },
  {
   "cell_type": "code",
   "execution_count": 17,
   "id": "de23e59f",
   "metadata": {},
   "outputs": [
    {
     "name": "stdout",
     "output_type": "stream",
     "text": [
      "MAE: 1631.3333333333333\n"
     ]
    }
   ],
   "source": [
    "preds_dt = model_dt.predict(X_valid)\n",
    "mae = metrics.mean_absolute_error(preds_dt, y_valid)\n",
    "print(f'MAE: {mae}')"
   ]
  },
  {
   "cell_type": "markdown",
   "id": "4f46c9c4",
   "metadata": {},
   "source": [
    "RandomForest"
   ]
  },
  {
   "cell_type": "code",
   "execution_count": 18,
   "id": "ef5cad1f",
   "metadata": {},
   "outputs": [
    {
     "data": {
      "text/plain": [
       "RandomForestRegressor(random_state=11)"
      ]
     },
     "execution_count": 18,
     "metadata": {},
     "output_type": "execute_result"
    }
   ],
   "source": [
    "model_rf = RandomForestRegressor(random_state = 11)\n",
    "model_rf.fit(X_train, y_train)"
   ]
  },
  {
   "cell_type": "code",
   "execution_count": 19,
   "id": "8c9baa56",
   "metadata": {},
   "outputs": [
    {
     "name": "stdout",
     "output_type": "stream",
     "text": [
      "MAE: 1160.0818333333332\n"
     ]
    }
   ],
   "source": [
    "preds_rf = model_rf.predict(X_valid)\n",
    "mae = metrics.mean_absolute_error(preds_rf, y_valid)\n",
    "print(f'MAE: {mae}')"
   ]
  },
  {
   "cell_type": "markdown",
   "id": "dad11321",
   "metadata": {},
   "source": [
    "KNeighbors"
   ]
  },
  {
   "cell_type": "code",
   "execution_count": 20,
   "id": "68ad9c37",
   "metadata": {},
   "outputs": [
    {
     "data": {
      "text/plain": [
       "KNeighborsRegressor()"
      ]
     },
     "execution_count": 20,
     "metadata": {},
     "output_type": "execute_result"
    }
   ],
   "source": [
    "model_knn = KNeighborsRegressor()\n",
    "model_knn.fit(X_train, y_train)"
   ]
  },
  {
   "cell_type": "code",
   "execution_count": 21,
   "id": "ff864046",
   "metadata": {},
   "outputs": [
    {
     "name": "stdout",
     "output_type": "stream",
     "text": [
      "MAE: 1931.031111111111\n"
     ]
    }
   ],
   "source": [
    "preds_knn = model_knn.predict(X_valid)\n",
    "mae = metrics.mean_absolute_error(preds_knn, y_valid)\n",
    "print(f'MAE: {mae}')"
   ]
  },
  {
   "cell_type": "markdown",
   "id": "d6e9f11f",
   "metadata": {},
   "source": [
    "SupportVector"
   ]
  },
  {
   "cell_type": "code",
   "execution_count": 22,
   "id": "93d5e32d",
   "metadata": {},
   "outputs": [
    {
     "data": {
      "text/plain": [
       "SVR()"
      ]
     },
     "execution_count": 22,
     "metadata": {},
     "output_type": "execute_result"
    }
   ],
   "source": [
    "model_svr = SVR()\n",
    "model_svr.fit(X_train, y_train)"
   ]
  },
  {
   "cell_type": "code",
   "execution_count": 23,
   "id": "f75a17e2",
   "metadata": {},
   "outputs": [
    {
     "name": "stdout",
     "output_type": "stream",
     "text": [
      "MAE: 4757.036140561852\n"
     ]
    }
   ],
   "source": [
    "preds_svr = model_svr.predict(X_valid)\n",
    "mae = metrics.mean_absolute_error(preds_svr, y_valid)\n",
    "print(f'MAE: {mae}')"
   ]
  },
  {
   "cell_type": "markdown",
   "id": "e8585dff",
   "metadata": {},
   "source": [
    "XGBoost"
   ]
  },
  {
   "cell_type": "code",
   "execution_count": 24,
   "id": "5e54d143",
   "metadata": {},
   "outputs": [],
   "source": [
    "xgb = XGBRegressor()"
   ]
  },
  {
   "cell_type": "code",
   "execution_count": 25,
   "id": "9c048f65",
   "metadata": {},
   "outputs": [
    {
     "data": {
      "text/plain": [
       "XGBRegressor(base_score=0.5, booster='gbtree', colsample_bylevel=1,\n",
       "             colsample_bynode=1, colsample_bytree=1, gamma=0, gpu_id=-1,\n",
       "             importance_type='gain', interaction_constraints='',\n",
       "             learning_rate=0.300000012, max_delta_step=0, max_depth=6,\n",
       "             min_child_weight=1, missing=nan, monotone_constraints='()',\n",
       "             n_estimators=100, n_jobs=4, num_parallel_tree=1, random_state=0,\n",
       "             reg_alpha=0, reg_lambda=1, scale_pos_weight=1, subsample=1,\n",
       "             tree_method='exact', validate_parameters=1, verbosity=None)"
      ]
     },
     "execution_count": 25,
     "metadata": {},
     "output_type": "execute_result"
    }
   ],
   "source": [
    "xgb.fit(X_train, y_train)"
   ]
  },
  {
   "cell_type": "code",
   "execution_count": 26,
   "id": "281398d3",
   "metadata": {},
   "outputs": [
    {
     "name": "stdout",
     "output_type": "stream",
     "text": [
      "MAE: 1266.8962022569444\n"
     ]
    },
    {
     "name": "stderr",
     "output_type": "stream",
     "text": [
      "C:\\Users\\HP\\anaconda3\\lib\\site-packages\\xgboost\\data.py:112: UserWarning: Use subset (sliced data) of np.ndarray is not recommended because it will generate extra copies and increase memory consumption\n",
      "  warnings.warn(\n"
     ]
    }
   ],
   "source": [
    "preds_xgb = xgb.predict(X_valid)\n",
    "mae = metrics.mean_absolute_error(preds_xgb, y_valid)\n",
    "print(f'MAE: {mae}')"
   ]
  },
  {
   "cell_type": "markdown",
   "id": "f6919cc6",
   "metadata": {},
   "source": [
    "Deep Neural Network"
   ]
  },
  {
   "cell_type": "code",
   "execution_count": 27,
   "id": "7fde5c5e",
   "metadata": {},
   "outputs": [
    {
     "data": {
      "text/plain": [
       "(148, 24)"
      ]
     },
     "execution_count": 27,
     "metadata": {},
     "output_type": "execute_result"
    }
   ],
   "source": [
    "X_train.shape"
   ]
  },
  {
   "cell_type": "code",
   "execution_count": 28,
   "id": "a46cf372",
   "metadata": {},
   "outputs": [],
   "source": [
    "model_nn = keras.Sequential([\n",
    "    layers.Dense(244, activation = 'relu', input_shape = [24]),\n",
    "    layers.Dense(244, activation = 'relu'),\n",
    "    layers.Dense(244, activation = 'relu'),\n",
    "    layers.Dense(1)\n",
    "])\n",
    "\n",
    "model_nn.compile(optimizer = 'adam', loss = 'mae')"
   ]
  },
  {
   "cell_type": "code",
   "execution_count": 29,
   "id": "7c471a9f",
   "metadata": {},
   "outputs": [],
   "source": [
    "early_stopping = callbacks.EarlyStopping(\n",
    "    min_delta = 0.01, \n",
    "    patience = 10,\n",
    "    restore_best_weights = True\n",
    ")"
   ]
  },
  {
   "cell_type": "code",
   "execution_count": 30,
   "id": "e09dc6af",
   "metadata": {},
   "outputs": [],
   "source": [
    "model_data = model_nn.fit(X_train, y_train,\n",
    "                      validation_data = (X_valid, y_valid),\n",
    "                      batch_size = 28,\n",
    "                      epochs = 500,\n",
    "                      callbacks = [early_stopping],\n",
    "                      verbose = 0\n",
    "                      )"
   ]
  },
  {
   "cell_type": "code",
   "execution_count": 31,
   "id": "fc649a3f",
   "metadata": {},
   "outputs": [
    {
     "data": {
      "text/html": [
       "<div>\n",
       "<style scoped>\n",
       "    .dataframe tbody tr th:only-of-type {\n",
       "        vertical-align: middle;\n",
       "    }\n",
       "\n",
       "    .dataframe tbody tr th {\n",
       "        vertical-align: top;\n",
       "    }\n",
       "\n",
       "    .dataframe thead th {\n",
       "        text-align: right;\n",
       "    }\n",
       "</style>\n",
       "<table border=\"1\" class=\"dataframe\">\n",
       "  <thead>\n",
       "    <tr style=\"text-align: right;\">\n",
       "      <th></th>\n",
       "      <th>loss</th>\n",
       "      <th>val_loss</th>\n",
       "    </tr>\n",
       "  </thead>\n",
       "  <tbody>\n",
       "    <tr>\n",
       "      <th>0</th>\n",
       "      <td>11738.075195</td>\n",
       "      <td>7934.218750</td>\n",
       "    </tr>\n",
       "    <tr>\n",
       "      <th>1</th>\n",
       "      <td>7167.170410</td>\n",
       "      <td>4729.018555</td>\n",
       "    </tr>\n",
       "    <tr>\n",
       "      <th>2</th>\n",
       "      <td>6069.562012</td>\n",
       "      <td>6050.263672</td>\n",
       "    </tr>\n",
       "    <tr>\n",
       "      <th>3</th>\n",
       "      <td>6005.678223</td>\n",
       "      <td>4555.686523</td>\n",
       "    </tr>\n",
       "    <tr>\n",
       "      <th>4</th>\n",
       "      <td>5503.510742</td>\n",
       "      <td>4466.869629</td>\n",
       "    </tr>\n",
       "  </tbody>\n",
       "</table>\n",
       "</div>"
      ],
      "text/plain": [
       "           loss     val_loss\n",
       "0  11738.075195  7934.218750\n",
       "1   7167.170410  4729.018555\n",
       "2   6069.562012  6050.263672\n",
       "3   6005.678223  4555.686523\n",
       "4   5503.510742  4466.869629"
      ]
     },
     "execution_count": 31,
     "metadata": {},
     "output_type": "execute_result"
    }
   ],
   "source": [
    "model_hist = model_data.history\n",
    "\n",
    "model_hist = pd.DataFrame(model_hist)\n",
    "model_hist.head()"
   ]
  },
  {
   "cell_type": "code",
   "execution_count": 32,
   "id": "dd5cfff4",
   "metadata": {},
   "outputs": [
    {
     "data": {
      "text/plain": [
       "<AxesSubplot:>"
      ]
     },
     "execution_count": 32,
     "metadata": {},
     "output_type": "execute_result"
    },
    {
     "data": {
      "image/png": "[encoded data removed]",
      "text/plain": [
       "<Figure size 432x288 with 1 Axes>"
      ]
     },
     "metadata": {
      "needs_background": "light"
     },
     "output_type": "display_data"
    }
   ],
   "source": [
    "model_hist.plot()"
   ]
  },
  {
   "cell_type": "code",
   "execution_count": 33,
   "id": "8616de82",
   "metadata": {},
   "outputs": [
    {
     "name": "stdout",
     "output_type": "stream",
     "text": [
      "Deep Neural Network MAE: 1932.2166232638888\n"
     ]
    }
   ],
   "source": [
    "model_nn_preds = model_nn.predict(X_valid)\n",
    "mae = metrics.mean_absolute_error(model_nn_preds, y_valid)\n",
    "print(f'Deep Neural Network MAE: {mae}')"
   ]
  },
  {
   "cell_type": "code",
   "execution_count": null,
   "id": "d293ff9e",
   "metadata": {},
   "outputs": [],
   "source": []
  },
  {
   "cell_type": "markdown",
   "id": "ca7ff34c",
   "metadata": {},
   "source": [
    "## After Scaling"
   ]
  },
  {
   "cell_type": "code",
   "execution_count": 34,
   "id": "d9c77efd",
   "metadata": {},
   "outputs": [
    {
     "data": {
      "text/html": [
       "<div>\n",
       "<style scoped>\n",
       "    .dataframe tbody tr th:only-of-type {\n",
       "        vertical-align: middle;\n",
       "    }\n",
       "\n",
       "    .dataframe tbody tr th {\n",
       "        vertical-align: top;\n",
       "    }\n",
       "\n",
       "    .dataframe thead th {\n",
       "        text-align: right;\n",
       "    }\n",
       "</style>\n",
       "<table border=\"1\" class=\"dataframe\">\n",
       "  <thead>\n",
       "    <tr style=\"text-align: right;\">\n",
       "      <th></th>\n",
       "      <th>symboling</th>\n",
       "      <th>num_of_doors</th>\n",
       "      <th>wheel_base</th>\n",
       "      <th>length</th>\n",
       "      <th>width</th>\n",
       "      <th>height</th>\n",
       "      <th>curb_weight</th>\n",
       "      <th>num_of_cylinders</th>\n",
       "      <th>engine_size</th>\n",
       "      <th>bore</th>\n",
       "      <th>...</th>\n",
       "      <th>highway_mpg</th>\n",
       "      <th>make_label</th>\n",
       "      <th>fuel_type_label</th>\n",
       "      <th>aspiration_label</th>\n",
       "      <th>body_style_label</th>\n",
       "      <th>drive_wheels_label</th>\n",
       "      <th>engine_location_label</th>\n",
       "      <th>engine_type_label</th>\n",
       "      <th>fuel_system_label</th>\n",
       "      <th>price</th>\n",
       "    </tr>\n",
       "  </thead>\n",
       "  <tbody>\n",
       "    <tr>\n",
       "      <th>89</th>\n",
       "      <td>2</td>\n",
       "      <td>2</td>\n",
       "      <td>95.1</td>\n",
       "      <td>162.4</td>\n",
       "      <td>63.8</td>\n",
       "      <td>53.3</td>\n",
       "      <td>2008</td>\n",
       "      <td>4</td>\n",
       "      <td>97</td>\n",
       "      <td>3.15</td>\n",
       "      <td>...</td>\n",
       "      <td>37</td>\n",
       "      <td>12</td>\n",
       "      <td>1</td>\n",
       "      <td>0</td>\n",
       "      <td>1</td>\n",
       "      <td>1</td>\n",
       "      <td>0</td>\n",
       "      <td>2</td>\n",
       "      <td>1</td>\n",
       "      <td>8249</td>\n",
       "    </tr>\n",
       "    <tr>\n",
       "      <th>61</th>\n",
       "      <td>-1</td>\n",
       "      <td>4</td>\n",
       "      <td>115.6</td>\n",
       "      <td>202.6</td>\n",
       "      <td>71.7</td>\n",
       "      <td>56.3</td>\n",
       "      <td>3770</td>\n",
       "      <td>5</td>\n",
       "      <td>183</td>\n",
       "      <td>3.58</td>\n",
       "      <td>...</td>\n",
       "      <td>25</td>\n",
       "      <td>9</td>\n",
       "      <td>0</td>\n",
       "      <td>1</td>\n",
       "      <td>3</td>\n",
       "      <td>2</td>\n",
       "      <td>0</td>\n",
       "      <td>2</td>\n",
       "      <td>2</td>\n",
       "      <td>31600</td>\n",
       "    </tr>\n",
       "    <tr>\n",
       "      <th>24</th>\n",
       "      <td>1</td>\n",
       "      <td>4</td>\n",
       "      <td>93.7</td>\n",
       "      <td>157.3</td>\n",
       "      <td>63.8</td>\n",
       "      <td>50.6</td>\n",
       "      <td>1989</td>\n",
       "      <td>4</td>\n",
       "      <td>90</td>\n",
       "      <td>2.97</td>\n",
       "      <td>...</td>\n",
       "      <td>38</td>\n",
       "      <td>4</td>\n",
       "      <td>1</td>\n",
       "      <td>0</td>\n",
       "      <td>3</td>\n",
       "      <td>1</td>\n",
       "      <td>0</td>\n",
       "      <td>2</td>\n",
       "      <td>1</td>\n",
       "      <td>6692</td>\n",
       "    </tr>\n",
       "    <tr>\n",
       "      <th>30</th>\n",
       "      <td>1</td>\n",
       "      <td>2</td>\n",
       "      <td>93.7</td>\n",
       "      <td>150.0</td>\n",
       "      <td>64.0</td>\n",
       "      <td>52.6</td>\n",
       "      <td>1837</td>\n",
       "      <td>4</td>\n",
       "      <td>79</td>\n",
       "      <td>2.91</td>\n",
       "      <td>...</td>\n",
       "      <td>42</td>\n",
       "      <td>5</td>\n",
       "      <td>1</td>\n",
       "      <td>0</td>\n",
       "      <td>2</td>\n",
       "      <td>1</td>\n",
       "      <td>0</td>\n",
       "      <td>2</td>\n",
       "      <td>0</td>\n",
       "      <td>5399</td>\n",
       "    </tr>\n",
       "    <tr>\n",
       "      <th>143</th>\n",
       "      <td>0</td>\n",
       "      <td>4</td>\n",
       "      <td>95.7</td>\n",
       "      <td>169.7</td>\n",
       "      <td>63.6</td>\n",
       "      <td>59.1</td>\n",
       "      <td>3110</td>\n",
       "      <td>4</td>\n",
       "      <td>92</td>\n",
       "      <td>3.05</td>\n",
       "      <td>...</td>\n",
       "      <td>32</td>\n",
       "      <td>18</td>\n",
       "      <td>1</td>\n",
       "      <td>0</td>\n",
       "      <td>4</td>\n",
       "      <td>0</td>\n",
       "      <td>0</td>\n",
       "      <td>2</td>\n",
       "      <td>1</td>\n",
       "      <td>8778</td>\n",
       "    </tr>\n",
       "  </tbody>\n",
       "</table>\n",
       "<p>5 rows × 25 columns</p>\n",
       "</div>"
      ],
      "text/plain": [
       "     symboling  num_of_doors  wheel_base  length  width  height  curb_weight  \\\n",
       "89           2             2        95.1   162.4   63.8    53.3         2008   \n",
       "61          -1             4       115.6   202.6   71.7    56.3         3770   \n",
       "24           1             4        93.7   157.3   63.8    50.6         1989   \n",
       "30           1             2        93.7   150.0   64.0    52.6         1837   \n",
       "143          0             4        95.7   169.7   63.6    59.1         3110   \n",
       "\n",
       "     num_of_cylinders  engine_size  bore  ...  highway_mpg  make_label  \\\n",
       "89                  4           97  3.15  ...           37          12   \n",
       "61                  5          183  3.58  ...           25           9   \n",
       "24                  4           90  2.97  ...           38           4   \n",
       "30                  4           79  2.91  ...           42           5   \n",
       "143                 4           92  3.05  ...           32          18   \n",
       "\n",
       "     fuel_type_label  aspiration_label  body_style_label  drive_wheels_label  \\\n",
       "89                 1                 0                 1                   1   \n",
       "61                 0                 1                 3                   2   \n",
       "24                 1                 0                 3                   1   \n",
       "30                 1                 0                 2                   1   \n",
       "143                1                 0                 4                   0   \n",
       "\n",
       "     engine_location_label  engine_type_label  fuel_system_label  price  \n",
       "89                       0                  2                  1   8249  \n",
       "61                       0                  2                  2  31600  \n",
       "24                       0                  2                  1   6692  \n",
       "30                       0                  2                  0   5399  \n",
       "143                      0                  2                  1   8778  \n",
       "\n",
       "[5 rows x 25 columns]"
      ]
     },
     "execution_count": 34,
     "metadata": {},
     "output_type": "execute_result"
    }
   ],
   "source": [
    "train = X_train.join(y_train)\n",
    "valid = X_valid.join(y_valid)\n",
    "\n",
    "train.head()"
   ]
  },
  {
   "cell_type": "code",
   "execution_count": 35,
   "id": "9c4ce227",
   "metadata": {},
   "outputs": [],
   "source": [
    "scaler = StandardScaler()"
   ]
  },
  {
   "cell_type": "code",
   "execution_count": 36,
   "id": "038cf84d",
   "metadata": {},
   "outputs": [
    {
     "data": {
      "text/html": [
       "<div>\n",
       "<style scoped>\n",
       "    .dataframe tbody tr th:only-of-type {\n",
       "        vertical-align: middle;\n",
       "    }\n",
       "\n",
       "    .dataframe tbody tr th {\n",
       "        vertical-align: top;\n",
       "    }\n",
       "\n",
       "    .dataframe thead th {\n",
       "        text-align: right;\n",
       "    }\n",
       "</style>\n",
       "<table border=\"1\" class=\"dataframe\">\n",
       "  <thead>\n",
       "    <tr style=\"text-align: right;\">\n",
       "      <th></th>\n",
       "      <th>0</th>\n",
       "      <th>1</th>\n",
       "      <th>2</th>\n",
       "      <th>3</th>\n",
       "      <th>4</th>\n",
       "      <th>5</th>\n",
       "      <th>6</th>\n",
       "      <th>7</th>\n",
       "      <th>8</th>\n",
       "      <th>9</th>\n",
       "      <th>...</th>\n",
       "      <th>15</th>\n",
       "      <th>16</th>\n",
       "      <th>17</th>\n",
       "      <th>18</th>\n",
       "      <th>19</th>\n",
       "      <th>20</th>\n",
       "      <th>21</th>\n",
       "      <th>22</th>\n",
       "      <th>23</th>\n",
       "      <th>24</th>\n",
       "    </tr>\n",
       "  </thead>\n",
       "  <tbody>\n",
       "    <tr>\n",
       "      <th>0</th>\n",
       "      <td>0.948765</td>\n",
       "      <td>-1.161553</td>\n",
       "      <td>-0.610690</td>\n",
       "      <td>-0.917273</td>\n",
       "      <td>-0.976928</td>\n",
       "      <td>-0.249532</td>\n",
       "      <td>-1.043183</td>\n",
       "      <td>-0.450412</td>\n",
       "      <td>-0.779172</td>\n",
       "      <td>-0.634070</td>\n",
       "      <td>...</td>\n",
       "      <td>0.841347</td>\n",
       "      <td>0.026659</td>\n",
       "      <td>0.372104</td>\n",
       "      <td>-0.493657</td>\n",
       "      <td>-1.776867</td>\n",
       "      <td>-0.632082</td>\n",
       "      <td>-0.117041</td>\n",
       "      <td>-0.016609</td>\n",
       "      <td>-0.970714</td>\n",
       "      <td>-0.634183</td>\n",
       "    </tr>\n",
       "    <tr>\n",
       "      <th>1</th>\n",
       "      <td>-1.404596</td>\n",
       "      <td>0.860916</td>\n",
       "      <td>2.547371</td>\n",
       "      <td>2.153689</td>\n",
       "      <td>2.685221</td>\n",
       "      <td>1.008039</td>\n",
       "      <td>2.211434</td>\n",
       "      <td>0.624765</td>\n",
       "      <td>1.316180</td>\n",
       "      <td>0.910217</td>\n",
       "      <td>...</td>\n",
       "      <td>-0.854716</td>\n",
       "      <td>-0.487969</td>\n",
       "      <td>-2.687419</td>\n",
       "      <td>2.025697</td>\n",
       "      <td>0.480440</td>\n",
       "      <td>1.166920</td>\n",
       "      <td>-0.117041</td>\n",
       "      <td>-0.016609</td>\n",
       "      <td>-0.340601</td>\n",
       "      <td>2.190296</td>\n",
       "    </tr>\n",
       "    <tr>\n",
       "      <th>2</th>\n",
       "      <td>0.164311</td>\n",
       "      <td>0.860916</td>\n",
       "      <td>-0.826363</td>\n",
       "      <td>-1.306872</td>\n",
       "      <td>-0.976928</td>\n",
       "      <td>-1.381345</td>\n",
       "      <td>-1.078279</td>\n",
       "      <td>-0.450412</td>\n",
       "      <td>-0.949724</td>\n",
       "      <td>-1.280515</td>\n",
       "      <td>...</td>\n",
       "      <td>0.982685</td>\n",
       "      <td>-1.345681</td>\n",
       "      <td>0.372104</td>\n",
       "      <td>-0.493657</td>\n",
       "      <td>0.480440</td>\n",
       "      <td>-0.632082</td>\n",
       "      <td>-0.117041</td>\n",
       "      <td>-0.016609</td>\n",
       "      <td>-0.970714</td>\n",
       "      <td>-0.822514</td>\n",
       "    </tr>\n",
       "    <tr>\n",
       "      <th>3</th>\n",
       "      <td>0.164311</td>\n",
       "      <td>-1.161553</td>\n",
       "      <td>-0.826363</td>\n",
       "      <td>-1.864535</td>\n",
       "      <td>-0.884215</td>\n",
       "      <td>-0.542965</td>\n",
       "      <td>-1.359040</td>\n",
       "      <td>-0.450412</td>\n",
       "      <td>-1.217734</td>\n",
       "      <td>-1.495997</td>\n",
       "      <td>...</td>\n",
       "      <td>1.548040</td>\n",
       "      <td>-1.174139</td>\n",
       "      <td>0.372104</td>\n",
       "      <td>-0.493657</td>\n",
       "      <td>-0.648213</td>\n",
       "      <td>-0.632082</td>\n",
       "      <td>-0.117041</td>\n",
       "      <td>-0.016609</td>\n",
       "      <td>-1.600826</td>\n",
       "      <td>-0.978912</td>\n",
       "    </tr>\n",
       "    <tr>\n",
       "      <th>4</th>\n",
       "      <td>-0.620142</td>\n",
       "      <td>0.860916</td>\n",
       "      <td>-0.518259</td>\n",
       "      <td>-0.359611</td>\n",
       "      <td>-1.069641</td>\n",
       "      <td>2.181772</td>\n",
       "      <td>0.992338</td>\n",
       "      <td>-0.450412</td>\n",
       "      <td>-0.900995</td>\n",
       "      <td>-0.993206</td>\n",
       "      <td>...</td>\n",
       "      <td>0.134654</td>\n",
       "      <td>1.055913</td>\n",
       "      <td>0.372104</td>\n",
       "      <td>-0.493657</td>\n",
       "      <td>1.609094</td>\n",
       "      <td>-2.431083</td>\n",
       "      <td>-0.117041</td>\n",
       "      <td>-0.016609</td>\n",
       "      <td>-0.970714</td>\n",
       "      <td>-0.570196</td>\n",
       "    </tr>\n",
       "  </tbody>\n",
       "</table>\n",
       "<p>5 rows × 25 columns</p>\n",
       "</div>"
      ],
      "text/plain": [
       "         0         1         2         3         4         5         6   \\\n",
       "0  0.948765 -1.161553 -0.610690 -0.917273 -0.976928 -0.249532 -1.043183   \n",
       "1 -1.404596  0.860916  2.547371  2.153689  2.685221  1.008039  2.211434   \n",
       "2  0.164311  0.860916 -0.826363 -1.306872 -0.976928 -1.381345 -1.078279   \n",
       "3  0.164311 -1.161553 -0.826363 -1.864535 -0.884215 -0.542965 -1.359040   \n",
       "4 -0.620142  0.860916 -0.518259 -0.359611 -1.069641  2.181772  0.992338   \n",
       "\n",
       "         7         8         9   ...        15        16        17        18  \\\n",
       "0 -0.450412 -0.779172 -0.634070  ...  0.841347  0.026659  0.372104 -0.493657   \n",
       "1  0.624765  1.316180  0.910217  ... -0.854716 -0.487969 -2.687419  2.025697   \n",
       "2 -0.450412 -0.949724 -1.280515  ...  0.982685 -1.345681  0.372104 -0.493657   \n",
       "3 -0.450412 -1.217734 -1.495997  ...  1.548040 -1.174139  0.372104 -0.493657   \n",
       "4 -0.450412 -0.900995 -0.993206  ...  0.134654  1.055913  0.372104 -0.493657   \n",
       "\n",
       "         19        20        21        22        23        24  \n",
       "0 -1.776867 -0.632082 -0.117041 -0.016609 -0.970714 -0.634183  \n",
       "1  0.480440  1.166920 -0.117041 -0.016609 -0.340601  2.190296  \n",
       "2  0.480440 -0.632082 -0.117041 -0.016609 -0.970714 -0.822514  \n",
       "3 -0.648213 -0.632082 -0.117041 -0.016609 -1.600826 -0.978912  \n",
       "4  1.609094 -2.431083 -0.117041 -0.016609 -0.970714 -0.570196  \n",
       "\n",
       "[5 rows x 25 columns]"
      ]
     },
     "execution_count": 36,
     "metadata": {},
     "output_type": "execute_result"
    }
   ],
   "source": [
    "scaled_train = pd.DataFrame(scaler.fit_transform(train))\n",
    "scaled_valid = pd.DataFrame(scaler.transform(valid))\n",
    "\n",
    "scaled_train.head()"
   ]
  },
  {
   "cell_type": "code",
   "execution_count": 37,
   "id": "5c4e4608",
   "metadata": {},
   "outputs": [],
   "source": [
    "scaled_train.columns = train.columns\n",
    "scaled_valid.columns = valid.columns"
   ]
  },
  {
   "cell_type": "code",
   "execution_count": 38,
   "id": "47029763",
   "metadata": {},
   "outputs": [
    {
     "data": {
      "text/html": [
       "<div>\n",
       "<style scoped>\n",
       "    .dataframe tbody tr th:only-of-type {\n",
       "        vertical-align: middle;\n",
       "    }\n",
       "\n",
       "    .dataframe tbody tr th {\n",
       "        vertical-align: top;\n",
       "    }\n",
       "\n",
       "    .dataframe thead th {\n",
       "        text-align: right;\n",
       "    }\n",
       "</style>\n",
       "<table border=\"1\" class=\"dataframe\">\n",
       "  <thead>\n",
       "    <tr style=\"text-align: right;\">\n",
       "      <th></th>\n",
       "      <th>symboling</th>\n",
       "      <th>num_of_doors</th>\n",
       "      <th>wheel_base</th>\n",
       "      <th>length</th>\n",
       "      <th>width</th>\n",
       "      <th>height</th>\n",
       "      <th>curb_weight</th>\n",
       "      <th>num_of_cylinders</th>\n",
       "      <th>engine_size</th>\n",
       "      <th>bore</th>\n",
       "      <th>...</th>\n",
       "      <th>city_mpg</th>\n",
       "      <th>highway_mpg</th>\n",
       "      <th>make_label</th>\n",
       "      <th>fuel_type_label</th>\n",
       "      <th>aspiration_label</th>\n",
       "      <th>body_style_label</th>\n",
       "      <th>drive_wheels_label</th>\n",
       "      <th>engine_location_label</th>\n",
       "      <th>engine_type_label</th>\n",
       "      <th>fuel_system_label</th>\n",
       "    </tr>\n",
       "  </thead>\n",
       "  <tbody>\n",
       "    <tr>\n",
       "      <th>0</th>\n",
       "      <td>0.948765</td>\n",
       "      <td>-1.161553</td>\n",
       "      <td>-0.610690</td>\n",
       "      <td>-0.917273</td>\n",
       "      <td>-0.976928</td>\n",
       "      <td>-0.249532</td>\n",
       "      <td>-1.043183</td>\n",
       "      <td>-0.450412</td>\n",
       "      <td>-0.779172</td>\n",
       "      <td>-0.634070</td>\n",
       "      <td>...</td>\n",
       "      <td>0.821730</td>\n",
       "      <td>0.841347</td>\n",
       "      <td>0.026659</td>\n",
       "      <td>0.372104</td>\n",
       "      <td>-0.493657</td>\n",
       "      <td>-1.776867</td>\n",
       "      <td>-0.632082</td>\n",
       "      <td>-0.117041</td>\n",
       "      <td>-0.016609</td>\n",
       "      <td>-0.970714</td>\n",
       "    </tr>\n",
       "    <tr>\n",
       "      <th>1</th>\n",
       "      <td>-1.404596</td>\n",
       "      <td>0.860916</td>\n",
       "      <td>2.547371</td>\n",
       "      <td>2.153689</td>\n",
       "      <td>2.685221</td>\n",
       "      <td>1.008039</td>\n",
       "      <td>2.211434</td>\n",
       "      <td>0.624765</td>\n",
       "      <td>1.316180</td>\n",
       "      <td>0.910217</td>\n",
       "      <td>...</td>\n",
       "      <td>-0.539644</td>\n",
       "      <td>-0.854716</td>\n",
       "      <td>-0.487969</td>\n",
       "      <td>-2.687419</td>\n",
       "      <td>2.025697</td>\n",
       "      <td>0.480440</td>\n",
       "      <td>1.166920</td>\n",
       "      <td>-0.117041</td>\n",
       "      <td>-0.016609</td>\n",
       "      <td>-0.340601</td>\n",
       "    </tr>\n",
       "    <tr>\n",
       "      <th>2</th>\n",
       "      <td>0.164311</td>\n",
       "      <td>0.860916</td>\n",
       "      <td>-0.826363</td>\n",
       "      <td>-1.306872</td>\n",
       "      <td>-0.976928</td>\n",
       "      <td>-1.381345</td>\n",
       "      <td>-1.078279</td>\n",
       "      <td>-0.450412</td>\n",
       "      <td>-0.949724</td>\n",
       "      <td>-1.280515</td>\n",
       "      <td>...</td>\n",
       "      <td>0.821730</td>\n",
       "      <td>0.982685</td>\n",
       "      <td>-1.345681</td>\n",
       "      <td>0.372104</td>\n",
       "      <td>-0.493657</td>\n",
       "      <td>0.480440</td>\n",
       "      <td>-0.632082</td>\n",
       "      <td>-0.117041</td>\n",
       "      <td>-0.016609</td>\n",
       "      <td>-0.970714</td>\n",
       "    </tr>\n",
       "  </tbody>\n",
       "</table>\n",
       "<p>3 rows × 24 columns</p>\n",
       "</div>"
      ],
      "text/plain": [
       "   symboling  num_of_doors  wheel_base    length     width    height  \\\n",
       "0   0.948765     -1.161553   -0.610690 -0.917273 -0.976928 -0.249532   \n",
       "1  -1.404596      0.860916    2.547371  2.153689  2.685221  1.008039   \n",
       "2   0.164311      0.860916   -0.826363 -1.306872 -0.976928 -1.381345   \n",
       "\n",
       "   curb_weight  num_of_cylinders  engine_size      bore  ...  city_mpg  \\\n",
       "0    -1.043183         -0.450412    -0.779172 -0.634070  ...  0.821730   \n",
       "1     2.211434          0.624765     1.316180  0.910217  ... -0.539644   \n",
       "2    -1.078279         -0.450412    -0.949724 -1.280515  ...  0.821730   \n",
       "\n",
       "   highway_mpg  make_label  fuel_type_label  aspiration_label  \\\n",
       "0     0.841347    0.026659         0.372104         -0.493657   \n",
       "1    -0.854716   -0.487969        -2.687419          2.025697   \n",
       "2     0.982685   -1.345681         0.372104         -0.493657   \n",
       "\n",
       "   body_style_label  drive_wheels_label  engine_location_label  \\\n",
       "0         -1.776867           -0.632082              -0.117041   \n",
       "1          0.480440            1.166920              -0.117041   \n",
       "2          0.480440           -0.632082              -0.117041   \n",
       "\n",
       "   engine_type_label  fuel_system_label  \n",
       "0          -0.016609          -0.970714  \n",
       "1          -0.016609          -0.340601  \n",
       "2          -0.016609          -0.970714  \n",
       "\n",
       "[3 rows x 24 columns]"
      ]
     },
     "execution_count": 38,
     "metadata": {},
     "output_type": "execute_result"
    }
   ],
   "source": [
    "X_train = scaled_train.drop('price', axis = 1)\n",
    "X_valid = scaled_valid.drop('price', axis = 1)\n",
    "\n",
    "y_train = scaled_train.price\n",
    "y_valid = scaled_valid.price\n",
    "\n",
    "X_train.head(3)"
   ]
  },
  {
   "cell_type": "code",
   "execution_count": 39,
   "id": "623e642f",
   "metadata": {},
   "outputs": [],
   "source": [
    "def train_eval_model(train_set, valid_set, model):\n",
    "    X_train, y_train = train_set.drop('price', axis = 1), train_set.price\n",
    "    X_valid, y_valid = valid_set.drop('price', axis = 1), valid_set.price\n",
    "    \n",
    "    if model == 'decisiontree':\n",
    "        model = DecisionTreeRegressor(random_state = 0)\n",
    "        model.fit(X_train, y_train)\n",
    "        preds = model.predict(X_valid)\n",
    "        mae = metrics.mean_absolute_error(preds, y_valid)\n",
    "        \n",
    "    elif model == 'randomforest':\n",
    "        model = RandomForestRegressor(random_state = 0)\n",
    "        model.fit(X_train, y_train)\n",
    "        preds = model.predict(X_valid)\n",
    "        mae = metrics.mean_absolute_error(preds, y_valid)\n",
    "        \n",
    "    elif model == 'xgb':\n",
    "        model = XGBRegressor()\n",
    "        model.fit(X_train, y_train)\n",
    "        preds = model.predict(X_valid)\n",
    "        mae = metrics.mean_absolute_error(preds, y_valid)\n",
    "        \n",
    "    elif model == 'svm':\n",
    "        model = SVR()\n",
    "        model.fit(X_train, y_train)\n",
    "        preds = model.predict(X_valid)\n",
    "        mae = metrics.mean_absolute_error(preds, y_valid)\n",
    "        \n",
    "    elif model == 'knn':\n",
    "        model = KNeighborsRegressor()\n",
    "        model.fit(X_train, y_train)\n",
    "        preds = model.predict(X_valid)\n",
    "        mae = metrics.mean_absolute_error(preds, y_valid)\n",
    "        \n",
    "    else:\n",
    "        print('Define a valid model')\n",
    "        \n",
    "    return f\"{model}'s MAE: {mae}'\""
   ]
  },
  {
   "cell_type": "code",
   "execution_count": 40,
   "id": "67e50364",
   "metadata": {},
   "outputs": [
    {
     "data": {
      "text/plain": [
       "\"DecisionTreeRegressor(random_state=0)'s MAE: 0.21140149773324787'\""
      ]
     },
     "execution_count": 40,
     "metadata": {},
     "output_type": "execute_result"
    }
   ],
   "source": [
    "train_eval_model(scaled_train, scaled_valid, 'decisiontree')"
   ]
  },
  {
   "cell_type": "code",
   "execution_count": 41,
   "id": "0a5783b5",
   "metadata": {},
   "outputs": [
    {
     "data": {
      "text/plain": [
       "\"RandomForestRegressor(random_state=0)'s MAE: 0.14170239776793148'\""
      ]
     },
     "execution_count": 41,
     "metadata": {},
     "output_type": "execute_result"
    }
   ],
   "source": [
    "train_eval_model(scaled_train, scaled_valid, 'randomforest')"
   ]
  },
  {
   "cell_type": "code",
   "execution_count": 42,
   "id": "5df5c079",
   "metadata": {},
   "outputs": [
    {
     "name": "stderr",
     "output_type": "stream",
     "text": [
      "C:\\Users\\HP\\anaconda3\\lib\\site-packages\\xgboost\\data.py:112: UserWarning: Use subset (sliced data) of np.ndarray is not recommended because it will generate extra copies and increase memory consumption\n",
      "  warnings.warn(\n"
     ]
    },
    {
     "data": {
      "text/plain": [
       "\"XGBRegressor(base_score=0.5, booster='gbtree', colsample_bylevel=1,\\n             colsample_bynode=1, colsample_bytree=1, gamma=0, gpu_id=-1,\\n             importance_type='gain', interaction_constraints='',\\n             learning_rate=0.300000012, max_delta_step=0, max_depth=6,\\n             min_child_weight=1, missing=nan, monotone_constraints='()',\\n             n_estimators=100, n_jobs=4, num_parallel_tree=1, random_state=0,\\n             reg_alpha=0, reg_lambda=1, scale_pos_weight=1, subsample=1,\\n             tree_method='exact', validate_parameters=1, verbosity=None)'s MAE: 0.15005650002389034'\""
      ]
     },
     "execution_count": 42,
     "metadata": {},
     "output_type": "execute_result"
    }
   ],
   "source": [
    "train_eval_model(scaled_train, scaled_valid, 'xgb')"
   ]
  },
  {
   "cell_type": "code",
   "execution_count": 43,
   "id": "bedaecc3",
   "metadata": {},
   "outputs": [
    {
     "data": {
      "text/plain": [
       "\"KNeighborsRegressor()'s MAE: 0.19899179329403946'\""
      ]
     },
     "execution_count": 43,
     "metadata": {},
     "output_type": "execute_result"
    }
   ],
   "source": [
    "train_eval_model(scaled_train, scaled_valid, 'knn')"
   ]
  },
  {
   "cell_type": "code",
   "execution_count": 44,
   "id": "fe586b47",
   "metadata": {},
   "outputs": [
    {
     "data": {
      "text/plain": [
       "\"SVR()'s MAE: 0.23463134959462215'\""
      ]
     },
     "execution_count": 44,
     "metadata": {},
     "output_type": "execute_result"
    }
   ],
   "source": [
    "train_eval_model(scaled_train, scaled_valid, 'svm')"
   ]
  },
  {
   "cell_type": "code",
   "execution_count": 45,
   "id": "0d7b93fd",
   "metadata": {},
   "outputs": [],
   "source": [
    "model_data = model_nn.fit(X_train, y_train,\n",
    "                      validation_data = (X_valid, y_valid),\n",
    "                      batch_size = 28,\n",
    "                      epochs = 500,\n",
    "                      callbacks = [early_stopping],\n",
    "                      verbose = 0\n",
    "                      )"
   ]
  },
  {
   "cell_type": "code",
   "execution_count": 46,
   "id": "96594b61",
   "metadata": {},
   "outputs": [
    {
     "name": "stdout",
     "output_type": "stream",
     "text": [
      "NN's MAE after scaling: 0.22360824536631552\n"
     ]
    }
   ],
   "source": [
    "preds_nn = model_nn.predict(X_valid)\n",
    "mae = metrics.mean_absolute_error(preds_nn, y_valid)\n",
    "print(f\"NN's MAE after scaling: {mae}\")"
   ]
  },
  {
   "cell_type": "code",
   "execution_count": 47,
   "id": "e68bd748",
   "metadata": {},
   "outputs": [
    {
     "data": {
      "text/plain": [
       "<AxesSubplot:>"
      ]
     },
     "execution_count": 47,
     "metadata": {},
     "output_type": "execute_result"
    },
    {
     "data": {
      "image/png": "[encoded data removed]",
      "text/plain": [
       "<Figure size 432x288 with 1 Axes>"
      ]
     },
     "metadata": {
      "needs_background": "light"
     },
     "output_type": "display_data"
    }
   ],
   "source": [
    "model_hist = pd.DataFrame(model_data.history)\n",
    "model_hist.plot()"
   ]
  },
  {
   "cell_type": "code",
   "execution_count": null,
   "id": "9f2197e8",
   "metadata": {},
   "outputs": [],
   "source": []
  }
 ],
 "metadata": {
  "kernelspec": {
   "display_name": "Python 3",
   "language": "python",
   "name": "python3"
  },
  "language_info": {
   "codemirror_mode": {
    "name": "ipython",
    "version": 3
   },
   "file_extension": ".py",
   "mimetype": "text/x-python",
   "name": "python",
   "nbconvert_exporter": "python",
   "pygments_lexer": "ipython3",
   "version": "3.8.8"
  }
 },
 "nbformat": 4,
 "nbformat_minor": 5
}
